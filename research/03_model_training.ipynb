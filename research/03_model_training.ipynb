{
 "cells": [
  {
   "cell_type": "code",
   "execution_count": 1,
   "metadata": {},
   "outputs": [
    {
     "data": {
      "text/plain": [
       "'c:\\\\Resume Projects\\\\Kidney-Tumor-Classifier\\\\research'"
      ]
     },
     "execution_count": 1,
     "metadata": {},
     "output_type": "execute_result"
    }
   ],
   "source": [
    "import os\n",
    "%pwd"
   ]
  },
  {
   "cell_type": "code",
   "execution_count": 2,
   "metadata": {},
   "outputs": [],
   "source": [
    "os.chdir(\"../\")"
   ]
  },
  {
   "cell_type": "markdown",
   "metadata": {},
   "source": [
    "# Entity"
   ]
  },
  {
   "cell_type": "code",
   "execution_count": 3,
   "metadata": {},
   "outputs": [],
   "source": [
    "from dataclasses import dataclass\n",
    "from pathlib import Path\n",
    "\n",
    "\n",
    "@dataclass(frozen=True)\n",
    "class TrainingConfig:\n",
    "    root_dir: Path\n",
    "    trained_model_path: Path\n",
    "    updated_base_model_path: Path\n",
    "    training_data: Path\n",
    "    params_epochs: int\n",
    "    params_batch_size: int\n",
    "    params_is_augmentation: bool\n",
    "    params_image_size: list"
   ]
  },
  {
   "cell_type": "markdown",
   "metadata": {},
   "source": [
    "# Configuration Manager"
   ]
  },
  {
   "cell_type": "code",
   "execution_count": 4,
   "metadata": {},
   "outputs": [],
   "source": [
    "from KidneyTumorClassifier.constants import *\n",
    "from KidneyTumorClassifier.utils.common import read_yaml, create_directories\n",
    "import tensorflow as tf"
   ]
  },
  {
   "cell_type": "code",
   "execution_count": 5,
   "metadata": {},
   "outputs": [],
   "source": [
    "class ConfigurationManager:\n",
    "    \n",
    "    def __init__(self, config_filepath = CONFIG_FILE_PATH, params_filepath = PARAMS_FILE_PATH):\n",
    "        self.config = read_yaml(config_filepath)\n",
    "        self.params = read_yaml(params_filepath)\n",
    "        create_directories([self.config.artifacts_root])\n",
    "\n",
    "\n",
    "    def get_training_config(self) -> TrainingConfig:\n",
    "        training = self.config.training\n",
    "        prepare_base_model = self.config.prepare_base_model\n",
    "        params = self.params\n",
    "        training_data = os.path.join(self.config.data_ingestion.unzip_dir, \"kidney-ct-scan-image\")\n",
    "        create_directories([Path(training.root_dir)])\n",
    "        training_config = TrainingConfig(\n",
    "            root_dir=Path(training.root_dir),\n",
    "            trained_model_path=Path(training.trained_model_path),\n",
    "            updated_base_model_path=Path(prepare_base_model.updated_base_model_path),\n",
    "            training_data=Path(training_data),\n",
    "            params_epochs=params.EPOCHS,\n",
    "            params_batch_size=params.BATCH_SIZE,\n",
    "            params_is_augmentation=params.AUGMENTATION,\n",
    "            params_image_size=params.IMAGE_SIZE\n",
    "        )\n",
    "\n",
    "        return training_config"
   ]
  },
  {
   "cell_type": "markdown",
   "metadata": {},
   "source": [
    "# Components"
   ]
  },
  {
   "cell_type": "code",
   "execution_count": 6,
   "metadata": {},
   "outputs": [],
   "source": [
    "import os\n",
    "import urllib.request as request\n",
    "from zipfile import ZipFile\n",
    "import tensorflow as tf\n",
    "import time"
   ]
  },
  {
   "cell_type": "code",
   "execution_count": 7,
   "metadata": {},
   "outputs": [],
   "source": [
    "class Training:\n",
    "    \n",
    "    def __init__(self, config: TrainingConfig):\n",
    "        self.config = config\n",
    "\n",
    "    def get_base_model(self):\n",
    "        self.model = tf.keras.models.load_model(self.config.updated_base_model_path)\n",
    "\n",
    "    \n",
    "\n",
    "    def train_valid_generator(self):\n",
    "        datagenerator_kwargs = dict(rescale = 1./255, validation_split=0.20)\n",
    "        dataflow_kwargs = dict(target_size=self.config.params_image_size[:-1], batch_size=self.config.params_batch_size, interpolation=\"bilinear\")\n",
    "        valid_datagenerator = tf.keras.preprocessing.image.ImageDataGenerator( **datagenerator_kwargs)\n",
    "        self.valid_generator = valid_datagenerator.flow_from_directory(directory=self.config.training_data, subset=\"validation\", shuffle=False,\n",
    "                                                                       **dataflow_kwargs)\n",
    "        if self.config.params_is_augmentation:\n",
    "            train_datagenerator = tf.keras.preprocessing.image.ImageDataGenerator(rotation_range=40, horizontal_flip=True, width_shift_range=0.2,\n",
    "                                                                                    height_shift_range=0.2,\n",
    "                                                                                    shear_range=0.2,\n",
    "                                                                                    zoom_range=0.2,\n",
    "                                                                                    **datagenerator_kwargs)\n",
    "        else:\n",
    "            train_datagenerator = valid_datagenerator\n",
    "        self.train_generator = train_datagenerator.flow_from_directory(directory=self.config.training_data, subset=\"training\", shuffle=True,\n",
    "                                                                       **dataflow_kwargs)\n",
    "    \n",
    "\n",
    "    @staticmethod\n",
    "    def save_model(path: Path, model: tf.keras.Model):\n",
    "        model.save(path)\n",
    "\n",
    "    def train(self):\n",
    "        self.steps_per_epoch = self.train_generator.samples // self.train_generator.batch_size\n",
    "        self.validation_steps = self.valid_generator.samples // self.valid_generator.batch_size\n",
    "        self.model.fit(self.train_generator, epochs=self.config.params_epochs,steps_per_epoch=self.steps_per_epoch,\n",
    "                        validation_steps=self.validation_steps,\n",
    "                        validation_data=self.valid_generator)\n",
    "        self.save_model(path=self.config.trained_model_path, model=self.model)"
   ]
  },
  {
   "cell_type": "markdown",
   "metadata": {},
   "source": [
    "# Pipeline"
   ]
  },
  {
   "cell_type": "code",
   "execution_count": 8,
   "metadata": {},
   "outputs": [
    {
     "name": "stdout",
     "output_type": "stream",
     "text": [
      "[2024-09-21 16:25:20,431: INFO: common: yaml file: config\\config.yaml loaded successfully]\n",
      "[2024-09-21 16:25:20,452: INFO: common: yaml file: params.yaml loaded successfully]\n",
      "[2024-09-21 16:25:20,463: INFO: common: Created directory at: artifacts]\n",
      "[2024-09-21 16:25:20,469: INFO: common: Created directory at: artifacts\\training]\n",
      "Found 93 images belonging to 2 classes.\n",
      "Found 372 images belonging to 2 classes.\n",
      "Epoch 1/30\n",
      "23/23 [==============================] - 200s 9s/step - loss: 11.3818 - accuracy: 0.5787 - val_loss: 3.8648 - val_accuracy: 0.6000\n",
      "Epoch 2/30\n",
      "23/23 [==============================] - 182s 8s/step - loss: 9.0553 - accuracy: 0.6601 - val_loss: 16.7534 - val_accuracy: 0.4750\n",
      "Epoch 3/30\n",
      "23/23 [==============================] - 180s 8s/step - loss: 3.5774 - accuracy: 0.7809 - val_loss: 1.5462 - val_accuracy: 0.5500\n",
      "Epoch 4/30\n",
      "23/23 [==============================] - 181s 8s/step - loss: 3.3329 - accuracy: 0.7753 - val_loss: 3.4776 - val_accuracy: 0.4750\n",
      "Epoch 5/30\n",
      "23/23 [==============================] - 180s 8s/step - loss: 1.4885 - accuracy: 0.8427 - val_loss: 0.1724 - val_accuracy: 0.9000\n",
      "Epoch 6/30\n",
      "23/23 [==============================] - 181s 8s/step - loss: 3.6263 - accuracy: 0.7444 - val_loss: 1.7504 - val_accuracy: 0.5375\n",
      "Epoch 7/30\n",
      "23/23 [==============================] - 181s 8s/step - loss: 2.0183 - accuracy: 0.8343 - val_loss: 4.7509 - val_accuracy: 0.4750\n",
      "Epoch 8/30\n",
      "23/23 [==============================] - 183s 8s/step - loss: 1.6405 - accuracy: 0.8567 - val_loss: 0.1581 - val_accuracy: 0.9625\n",
      "Epoch 9/30\n",
      "23/23 [==============================] - 184s 8s/step - loss: 2.3705 - accuracy: 0.8315 - val_loss: 0.2514 - val_accuracy: 0.9250\n",
      "Epoch 10/30\n",
      "23/23 [==============================] - 182s 8s/step - loss: 0.5410 - accuracy: 0.9213 - val_loss: 0.1628 - val_accuracy: 0.9625\n",
      "Epoch 11/30\n",
      "23/23 [==============================] - 184s 8s/step - loss: 0.5481 - accuracy: 0.9213 - val_loss: 0.3965 - val_accuracy: 0.9250\n",
      "Epoch 12/30\n",
      "23/23 [==============================] - 182s 8s/step - loss: 0.5688 - accuracy: 0.9157 - val_loss: 0.0014 - val_accuracy: 1.0000\n",
      "Epoch 13/30\n",
      "23/23 [==============================] - 184s 8s/step - loss: 0.1584 - accuracy: 0.9663 - val_loss: 4.7850 - val_accuracy: 0.6000\n",
      "Epoch 14/30\n",
      "23/23 [==============================] - 209s 9s/step - loss: 0.1326 - accuracy: 0.9719 - val_loss: 2.8372e-05 - val_accuracy: 1.0000\n",
      "Epoch 15/30\n",
      "23/23 [==============================] - 233s 10s/step - loss: 0.2856 - accuracy: 0.9466 - val_loss: 0.0061 - val_accuracy: 1.0000\n",
      "Epoch 16/30\n",
      "23/23 [==============================] - 237s 10s/step - loss: 0.2824 - accuracy: 0.9326 - val_loss: 0.0127 - val_accuracy: 1.0000\n",
      "Epoch 17/30\n",
      "23/23 [==============================] - 210s 9s/step - loss: 0.1570 - accuracy: 0.9635 - val_loss: 0.0497 - val_accuracy: 0.9625\n",
      "Epoch 18/30\n",
      "23/23 [==============================] - 221s 10s/step - loss: 0.0726 - accuracy: 0.9803 - val_loss: 8.7496e-06 - val_accuracy: 1.0000\n",
      "Epoch 19/30\n",
      "23/23 [==============================] - 198s 9s/step - loss: 0.1565 - accuracy: 0.9410 - val_loss: 0.0684 - val_accuracy: 0.9625\n",
      "Epoch 20/30\n",
      "23/23 [==============================] - 191s 8s/step - loss: 0.8902 - accuracy: 0.9213 - val_loss: 1.7298e-04 - val_accuracy: 1.0000\n",
      "Epoch 21/30\n",
      "23/23 [==============================] - 167s 7s/step - loss: 1.1768 - accuracy: 0.8848 - val_loss: 0.0015 - val_accuracy: 1.0000\n",
      "Epoch 22/30\n",
      "23/23 [==============================] - 138s 6s/step - loss: 1.6983 - accuracy: 0.8736 - val_loss: 0.0026 - val_accuracy: 1.0000\n",
      "Epoch 23/30\n",
      "23/23 [==============================] - 121s 5s/step - loss: 0.2559 - accuracy: 0.9438 - val_loss: 0.0257 - val_accuracy: 1.0000\n",
      "Epoch 24/30\n",
      "23/23 [==============================] - 98s 4s/step - loss: 3.1199 - accuracy: 0.7949 - val_loss: 1.3146 - val_accuracy: 0.7875\n",
      "Epoch 25/30\n",
      "23/23 [==============================] - 99s 4s/step - loss: 0.3597 - accuracy: 0.9410 - val_loss: 0.1616 - val_accuracy: 0.9625\n",
      "Epoch 26/30\n",
      "23/23 [==============================] - 95s 4s/step - loss: 0.0778 - accuracy: 0.9831 - val_loss: 0.0033 - val_accuracy: 1.0000\n",
      "Epoch 27/30\n",
      "23/23 [==============================] - 93s 4s/step - loss: 0.1428 - accuracy: 0.9635 - val_loss: 4.3657e-05 - val_accuracy: 1.0000\n",
      "Epoch 28/30\n",
      "23/23 [==============================] - 93s 4s/step - loss: 0.3065 - accuracy: 0.9551 - val_loss: 1.1678e-04 - val_accuracy: 1.0000\n",
      "Epoch 29/30\n",
      "23/23 [==============================] - 96s 4s/step - loss: 0.1526 - accuracy: 0.9803 - val_loss: 0.0276 - val_accuracy: 0.9875\n",
      "Epoch 30/30\n",
      "23/23 [==============================] - 93s 4s/step - loss: 0.0968 - accuracy: 0.9803 - val_loss: 0.0434 - val_accuracy: 0.9875\n"
     ]
    }
   ],
   "source": [
    "try:\n",
    "    config = ConfigurationManager()\n",
    "    training_config = config.get_training_config()\n",
    "    training = Training(config=training_config)\n",
    "    training.get_base_model()\n",
    "    training.train_valid_generator()\n",
    "    training.train()\n",
    "    \n",
    "except Exception as e:\n",
    "    raise e"
   ]
  },
  {
   "cell_type": "code",
   "execution_count": null,
   "metadata": {},
   "outputs": [],
   "source": []
  },
  {
   "cell_type": "code",
   "execution_count": null,
   "metadata": {},
   "outputs": [],
   "source": []
  },
  {
   "cell_type": "code",
   "execution_count": null,
   "metadata": {},
   "outputs": [],
   "source": []
  },
  {
   "cell_type": "code",
   "execution_count": null,
   "metadata": {},
   "outputs": [],
   "source": []
  },
  {
   "cell_type": "code",
   "execution_count": null,
   "metadata": {},
   "outputs": [],
   "source": []
  },
  {
   "cell_type": "code",
   "execution_count": null,
   "metadata": {},
   "outputs": [],
   "source": []
  },
  {
   "cell_type": "code",
   "execution_count": null,
   "metadata": {},
   "outputs": [],
   "source": []
  },
  {
   "cell_type": "code",
   "execution_count": null,
   "metadata": {},
   "outputs": [],
   "source": []
  },
  {
   "cell_type": "code",
   "execution_count": null,
   "metadata": {},
   "outputs": [],
   "source": []
  },
  {
   "cell_type": "code",
   "execution_count": null,
   "metadata": {},
   "outputs": [],
   "source": []
  },
  {
   "cell_type": "code",
   "execution_count": null,
   "metadata": {},
   "outputs": [],
   "source": []
  },
  {
   "cell_type": "code",
   "execution_count": null,
   "metadata": {},
   "outputs": [],
   "source": []
  },
  {
   "cell_type": "code",
   "execution_count": null,
   "metadata": {},
   "outputs": [],
   "source": []
  },
  {
   "cell_type": "code",
   "execution_count": null,
   "metadata": {},
   "outputs": [],
   "source": []
  },
  {
   "cell_type": "code",
   "execution_count": null,
   "metadata": {},
   "outputs": [],
   "source": []
  },
  {
   "cell_type": "code",
   "execution_count": null,
   "metadata": {},
   "outputs": [],
   "source": []
  },
  {
   "cell_type": "code",
   "execution_count": null,
   "metadata": {},
   "outputs": [],
   "source": []
  },
  {
   "cell_type": "code",
   "execution_count": null,
   "metadata": {},
   "outputs": [],
   "source": []
  },
  {
   "cell_type": "code",
   "execution_count": null,
   "metadata": {},
   "outputs": [],
   "source": []
  },
  {
   "cell_type": "code",
   "execution_count": null,
   "metadata": {},
   "outputs": [],
   "source": []
  },
  {
   "cell_type": "code",
   "execution_count": null,
   "metadata": {},
   "outputs": [],
   "source": []
  },
  {
   "cell_type": "code",
   "execution_count": null,
   "metadata": {},
   "outputs": [],
   "source": []
  },
  {
   "cell_type": "code",
   "execution_count": null,
   "metadata": {},
   "outputs": [],
   "source": []
  },
  {
   "cell_type": "code",
   "execution_count": null,
   "metadata": {},
   "outputs": [],
   "source": []
  },
  {
   "cell_type": "code",
   "execution_count": null,
   "metadata": {},
   "outputs": [],
   "source": []
  },
  {
   "cell_type": "code",
   "execution_count": null,
   "metadata": {},
   "outputs": [],
   "source": []
  },
  {
   "cell_type": "code",
   "execution_count": null,
   "metadata": {},
   "outputs": [],
   "source": []
  },
  {
   "cell_type": "code",
   "execution_count": null,
   "metadata": {},
   "outputs": [],
   "source": []
  }
 ],
 "metadata": {
  "kernelspec": {
   "display_name": "Python 3",
   "language": "python",
   "name": "python3"
  },
  "language_info": {
   "codemirror_mode": {
    "name": "ipython",
    "version": 3
   },
   "file_extension": ".py",
   "mimetype": "text/x-python",
   "name": "python",
   "nbconvert_exporter": "python",
   "pygments_lexer": "ipython3",
   "version": "3.9.19"
  }
 },
 "nbformat": 4,
 "nbformat_minor": 2
}
