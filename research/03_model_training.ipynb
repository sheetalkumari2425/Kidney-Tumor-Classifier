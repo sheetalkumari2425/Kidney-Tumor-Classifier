{
 "cells": [
  {
   "cell_type": "code",
   "execution_count": 1,
   "metadata": {},
   "outputs": [
    {
     "data": {
      "text/plain": [
       "'c:\\\\Resume Projects\\\\Kidney-Tumor-Classifier\\\\research'"
      ]
     },
     "execution_count": 1,
     "metadata": {},
     "output_type": "execute_result"
    }
   ],
   "source": [
    "import os\n",
    "%pwd"
   ]
  },
  {
   "cell_type": "code",
   "execution_count": 2,
   "metadata": {},
   "outputs": [],
   "source": [
    "os.chdir(\"../\")"
   ]
  },
  {
   "cell_type": "markdown",
   "metadata": {},
   "source": [
    "# Entity"
   ]
  },
  {
   "cell_type": "code",
   "execution_count": 3,
   "metadata": {},
   "outputs": [],
   "source": [
    "from dataclasses import dataclass\n",
    "from pathlib import Path\n",
    "\n",
    "\n",
    "@dataclass(frozen=True)\n",
    "class TrainingConfig:\n",
    "    root_dir: Path\n",
    "    trained_model_path: Path\n",
    "    updated_base_model_path: Path\n",
    "    training_data: Path\n",
    "    params_epochs: int\n",
    "    params_batch_size: int\n",
    "    params_is_augmentation: bool\n",
    "    params_image_size: list"
   ]
  },
  {
   "cell_type": "markdown",
   "metadata": {},
   "source": [
    "# Configuration Manager"
   ]
  },
  {
   "cell_type": "code",
   "execution_count": 4,
   "metadata": {},
   "outputs": [],
   "source": [
    "from KidneyTumorClassifier.constants import *\n",
    "from KidneyTumorClassifier.utils.common import read_yaml, create_directories\n",
    "import tensorflow as tf"
   ]
  },
  {
   "cell_type": "code",
   "execution_count": 5,
   "metadata": {},
   "outputs": [],
   "source": [
    "class ConfigurationManager:\n",
    "    \n",
    "    def __init__(self, config_filepath = CONFIG_FILE_PATH, params_filepath = PARAMS_FILE_PATH):\n",
    "        self.config = read_yaml(config_filepath)\n",
    "        self.params = read_yaml(params_filepath)\n",
    "        create_directories([self.config.artifacts_root])\n",
    "\n",
    "\n",
    "    def get_training_config(self) -> TrainingConfig:\n",
    "        training = self.config.training\n",
    "        prepare_base_model = self.config.prepare_base_model\n",
    "        params = self.params\n",
    "        training_data = os.path.join(self.config.data_ingestion.unzip_dir, \"kidney-ct-scan-image\")\n",
    "        create_directories([Path(training.root_dir)])\n",
    "        training_config = TrainingConfig(\n",
    "            root_dir=Path(training.root_dir),\n",
    "            trained_model_path=Path(training.trained_model_path),\n",
    "            updated_base_model_path=Path(prepare_base_model.updated_base_model_path),\n",
    "            training_data=Path(training_data),\n",
    "            params_epochs=params.EPOCHS,\n",
    "            params_batch_size=params.BATCH_SIZE,\n",
    "            params_is_augmentation=params.AUGMENTATION,\n",
    "            params_image_size=params.IMAGE_SIZE\n",
    "        )\n",
    "\n",
    "        return training_config"
   ]
  },
  {
   "cell_type": "markdown",
   "metadata": {},
   "source": [
    "# Components"
   ]
  },
  {
   "cell_type": "code",
   "execution_count": 6,
   "metadata": {},
   "outputs": [],
   "source": [
    "import os\n",
    "import urllib.request as request\n",
    "from zipfile import ZipFile\n",
    "import tensorflow as tf\n",
    "import time"
   ]
  },
  {
   "cell_type": "code",
   "execution_count": 7,
   "metadata": {},
   "outputs": [],
   "source": [
    "class Training:\n",
    "    \n",
    "    def __init__(self, config: TrainingConfig):\n",
    "        self.config = config\n",
    "\n",
    "    def get_base_model(self):\n",
    "        self.model = tf.keras.models.load_model(self.config.updated_base_model_path)\n",
    "\n",
    "    \n",
    "\n",
    "    def train_valid_generator(self):\n",
    "        datagenerator_kwargs = dict(rescale = 1./255, validation_split=0.20)\n",
    "        dataflow_kwargs = dict(target_size=self.config.params_image_size[:-1], batch_size=self.config.params_batch_size, interpolation=\"bilinear\")\n",
    "        valid_datagenerator = tf.keras.preprocessing.image.ImageDataGenerator( **datagenerator_kwargs)\n",
    "        self.valid_generator = valid_datagenerator.flow_from_directory(directory=self.config.training_data, subset=\"validation\", shuffle=False,\n",
    "                                                                       **dataflow_kwargs)\n",
    "        if self.config.params_is_augmentation:\n",
    "            train_datagenerator = tf.keras.preprocessing.image.ImageDataGenerator(rotation_range=40, horizontal_flip=True, width_shift_range=0.2,\n",
    "                                                                                    height_shift_range=0.2,\n",
    "                                                                                    shear_range=0.2,\n",
    "                                                                                    zoom_range=0.2,\n",
    "                                                                                    **datagenerator_kwargs)\n",
    "        else:\n",
    "            train_datagenerator = valid_datagenerator\n",
    "        self.train_generator = train_datagenerator.flow_from_directory(directory=self.config.training_data, subset=\"training\", shuffle=True,\n",
    "                                                                       **dataflow_kwargs)\n",
    "    \n",
    "\n",
    "    @staticmethod\n",
    "    def save_model(path: Path, model: tf.keras.Model):\n",
    "        model.save(path)\n",
    "\n",
    "    def train(self):\n",
    "        self.steps_per_epoch = self.train_generator.samples // self.train_generator.batch_size\n",
    "        self.validation_steps = self.valid_generator.samples // self.valid_generator.batch_size\n",
    "        self.model.fit(self.train_generator, epochs=self.config.params_epochs,steps_per_epoch=self.steps_per_epoch,\n",
    "                        validation_steps=self.validation_steps,\n",
    "                        validation_data=self.valid_generator)\n",
    "        self.save_model(path=self.config.trained_model_path, model=self.model)"
   ]
  },
  {
   "cell_type": "markdown",
   "metadata": {},
   "source": [
    "# Pipeline"
   ]
  },
  {
   "cell_type": "code",
   "execution_count": 8,
   "metadata": {},
   "outputs": [
    {
     "name": "stdout",
     "output_type": "stream",
     "text": [
      "[2024-09-09 03:46:51,553: INFO: common: yaml file: config\\config.yaml loaded successfully]\n",
      "[2024-09-09 03:46:51,558: INFO: common: yaml file: params.yaml loaded successfully]\n",
      "[2024-09-09 03:46:51,561: INFO: common: Created directory at: artifacts]\n",
      "[2024-09-09 03:46:51,563: INFO: common: Created directory at: artifacts\\training]\n",
      "Found 93 images belonging to 2 classes.\n",
      "Found 372 images belonging to 2 classes.\n",
      "Epoch 1/100\n",
      "23/23 [==============================] - 100s 4s/step - loss: 9.5397 - accuracy: 0.6152 - val_loss: 15.2098 - val_accuracy: 0.4750\n",
      "Epoch 2/100\n",
      "23/23 [==============================] - 100s 4s/step - loss: 6.3405 - accuracy: 0.6685 - val_loss: 2.0154 - val_accuracy: 0.7500\n",
      "Epoch 3/100\n",
      "23/23 [==============================] - 103s 4s/step - loss: 5.8757 - accuracy: 0.7275 - val_loss: 4.9163 - val_accuracy: 0.4375\n",
      "Epoch 4/100\n",
      "23/23 [==============================] - 100s 4s/step - loss: 4.8797 - accuracy: 0.7584 - val_loss: 7.1506 - val_accuracy: 0.4375\n",
      "Epoch 5/100\n",
      "23/23 [==============================] - 96s 4s/step - loss: 2.4028 - accuracy: 0.8034 - val_loss: 2.3787 - val_accuracy: 0.7125\n",
      "Epoch 6/100\n",
      "23/23 [==============================] - 105s 5s/step - loss: 4.3303 - accuracy: 0.7528 - val_loss: 2.0711 - val_accuracy: 0.5375\n",
      "Epoch 7/100\n",
      "23/23 [==============================] - 91s 4s/step - loss: 1.7006 - accuracy: 0.8455 - val_loss: 0.6972 - val_accuracy: 0.8625\n",
      "Epoch 8/100\n",
      "23/23 [==============================] - 92s 4s/step - loss: 0.9151 - accuracy: 0.8792 - val_loss: 17.3257 - val_accuracy: 0.4000\n",
      "Epoch 9/100\n",
      "23/23 [==============================] - 92s 4s/step - loss: 3.5509 - accuracy: 0.8034 - val_loss: 2.2078 - val_accuracy: 0.7375\n",
      "Epoch 10/100\n",
      "23/23 [==============================] - 92s 4s/step - loss: 0.9800 - accuracy: 0.9101 - val_loss: 0.0020 - val_accuracy: 1.0000\n",
      "Epoch 11/100\n",
      "23/23 [==============================] - 92s 4s/step - loss: 0.6458 - accuracy: 0.9073 - val_loss: 1.5855 - val_accuracy: 0.6750\n",
      "Epoch 12/100\n",
      "23/23 [==============================] - 92s 4s/step - loss: 0.8169 - accuracy: 0.8933 - val_loss: 1.5822 - val_accuracy: 0.7375\n",
      "Epoch 13/100\n",
      "23/23 [==============================] - 92s 4s/step - loss: 0.9034 - accuracy: 0.8961 - val_loss: 1.8689e-04 - val_accuracy: 1.0000\n",
      "Epoch 14/100\n",
      "23/23 [==============================] - 91s 4s/step - loss: 0.3844 - accuracy: 0.9326 - val_loss: 0.0467 - val_accuracy: 0.9875\n",
      "Epoch 15/100\n",
      "23/23 [==============================] - 92s 4s/step - loss: 0.5010 - accuracy: 0.9466 - val_loss: 7.7332e-05 - val_accuracy: 1.0000\n",
      "Epoch 16/100\n",
      "23/23 [==============================] - 92s 4s/step - loss: 0.1475 - accuracy: 0.9635 - val_loss: 6.1965e-05 - val_accuracy: 1.0000\n",
      "Epoch 17/100\n",
      "23/23 [==============================] - 91s 4s/step - loss: 2.0059 - accuracy: 0.8455 - val_loss: 0.0135 - val_accuracy: 1.0000\n",
      "Epoch 18/100\n",
      "23/23 [==============================] - 92s 4s/step - loss: 0.2687 - accuracy: 0.9551 - val_loss: 3.0538e-05 - val_accuracy: 1.0000\n",
      "Epoch 19/100\n",
      "23/23 [==============================] - 94s 4s/step - loss: 0.1883 - accuracy: 0.9592 - val_loss: 1.3815e-04 - val_accuracy: 1.0000\n",
      "Epoch 20/100\n",
      "23/23 [==============================] - 91s 4s/step - loss: 0.9227 - accuracy: 0.9213 - val_loss: 9.8445e-06 - val_accuracy: 1.0000\n",
      "Epoch 21/100\n",
      "23/23 [==============================] - 91s 4s/step - loss: 0.1200 - accuracy: 0.9775 - val_loss: 5.0583e-05 - val_accuracy: 1.0000\n",
      "Epoch 22/100\n",
      "23/23 [==============================] - 91s 4s/step - loss: 0.2418 - accuracy: 0.9579 - val_loss: 1.0187e-05 - val_accuracy: 1.0000\n",
      "Epoch 23/100\n",
      "23/23 [==============================] - 92s 4s/step - loss: 0.1035 - accuracy: 0.9803 - val_loss: 1.0002e-05 - val_accuracy: 1.0000\n",
      "Epoch 24/100\n",
      "23/23 [==============================] - 92s 4s/step - loss: 0.1245 - accuracy: 0.9635 - val_loss: 9.5492e-04 - val_accuracy: 1.0000\n",
      "Epoch 25/100\n",
      "23/23 [==============================] - 93s 4s/step - loss: 0.2324 - accuracy: 0.9438 - val_loss: 1.1686e-05 - val_accuracy: 1.0000\n",
      "Epoch 26/100\n",
      "23/23 [==============================] - 93s 4s/step - loss: 0.1321 - accuracy: 0.9803 - val_loss: 9.8405e-04 - val_accuracy: 1.0000\n",
      "Epoch 27/100\n",
      "23/23 [==============================] - 93s 4s/step - loss: 0.0558 - accuracy: 0.9775 - val_loss: 6.4253e-04 - val_accuracy: 1.0000\n",
      "Epoch 28/100\n",
      "23/23 [==============================] - 93s 4s/step - loss: 0.0436 - accuracy: 0.9888 - val_loss: 5.1208e-04 - val_accuracy: 1.0000\n",
      "Epoch 29/100\n",
      "23/23 [==============================] - 93s 4s/step - loss: 0.0209 - accuracy: 0.9944 - val_loss: 0.0019 - val_accuracy: 1.0000\n",
      "Epoch 30/100\n",
      "23/23 [==============================] - 92s 4s/step - loss: 0.0657 - accuracy: 0.9831 - val_loss: 0.0055 - val_accuracy: 1.0000\n",
      "Epoch 31/100\n",
      "23/23 [==============================] - 93s 4s/step - loss: 0.0514 - accuracy: 0.9888 - val_loss: 1.3010e-04 - val_accuracy: 1.0000\n",
      "Epoch 32/100\n",
      "23/23 [==============================] - 93s 4s/step - loss: 0.0442 - accuracy: 0.9888 - val_loss: 0.0022 - val_accuracy: 1.0000\n",
      "Epoch 33/100\n",
      "23/23 [==============================] - 92s 4s/step - loss: 0.0577 - accuracy: 0.9888 - val_loss: 5.0860e-04 - val_accuracy: 1.0000\n",
      "Epoch 34/100\n",
      "23/23 [==============================] - 94s 4s/step - loss: 0.0332 - accuracy: 0.9944 - val_loss: 0.0052 - val_accuracy: 1.0000\n",
      "Epoch 35/100\n",
      "23/23 [==============================] - 93s 4s/step - loss: 0.1084 - accuracy: 0.9803 - val_loss: 0.0205 - val_accuracy: 1.0000\n",
      "Epoch 36/100\n",
      "23/23 [==============================] - 92s 4s/step - loss: 0.0036 - accuracy: 1.0000 - val_loss: 0.0012 - val_accuracy: 1.0000\n",
      "Epoch 37/100\n",
      "23/23 [==============================] - 92s 4s/step - loss: 0.0188 - accuracy: 0.9972 - val_loss: 0.0177 - val_accuracy: 1.0000\n",
      "Epoch 38/100\n",
      "23/23 [==============================] - 93s 4s/step - loss: 1.6737 - accuracy: 0.8539 - val_loss: 0.0256 - val_accuracy: 0.9875\n",
      "Epoch 39/100\n",
      "23/23 [==============================] - 93s 4s/step - loss: 0.0456 - accuracy: 0.9944 - val_loss: 0.0138 - val_accuracy: 1.0000\n",
      "Epoch 40/100\n",
      "23/23 [==============================] - 93s 4s/step - loss: 0.0928 - accuracy: 0.9803 - val_loss: 0.0057 - val_accuracy: 1.0000\n",
      "Epoch 41/100\n",
      "23/23 [==============================] - 92s 4s/step - loss: 0.0668 - accuracy: 0.9831 - val_loss: 7.9003e-04 - val_accuracy: 1.0000\n",
      "Epoch 42/100\n",
      "23/23 [==============================] - 93s 4s/step - loss: 0.0842 - accuracy: 0.9860 - val_loss: 1.6974e-04 - val_accuracy: 1.0000\n",
      "Epoch 43/100\n",
      "23/23 [==============================] - 93s 4s/step - loss: 0.0212 - accuracy: 0.9916 - val_loss: 1.5145e-05 - val_accuracy: 1.0000\n",
      "Epoch 44/100\n",
      "23/23 [==============================] - 94s 4s/step - loss: 0.0603 - accuracy: 0.9860 - val_loss: 0.0016 - val_accuracy: 1.0000\n",
      "Epoch 45/100\n",
      "23/23 [==============================] - 93s 4s/step - loss: 0.0386 - accuracy: 0.9888 - val_loss: 0.0086 - val_accuracy: 1.0000\n",
      "Epoch 46/100\n",
      "23/23 [==============================] - 93s 4s/step - loss: 0.1057 - accuracy: 0.9663 - val_loss: 0.0850 - val_accuracy: 0.9500\n",
      "Epoch 47/100\n",
      "23/23 [==============================] - 93s 4s/step - loss: 0.0523 - accuracy: 0.9888 - val_loss: 0.0033 - val_accuracy: 1.0000\n",
      "Epoch 48/100\n",
      "23/23 [==============================] - 94s 4s/step - loss: 0.0911 - accuracy: 0.9719 - val_loss: 0.0017 - val_accuracy: 1.0000\n",
      "Epoch 49/100\n",
      "23/23 [==============================] - 93s 4s/step - loss: 0.0889 - accuracy: 0.9803 - val_loss: 3.1857e-05 - val_accuracy: 1.0000\n",
      "Epoch 50/100\n",
      "23/23 [==============================] - 93s 4s/step - loss: 0.0127 - accuracy: 0.9916 - val_loss: 5.5104e-05 - val_accuracy: 1.0000\n",
      "Epoch 51/100\n",
      "23/23 [==============================] - 93s 4s/step - loss: 0.0492 - accuracy: 0.9831 - val_loss: 0.0019 - val_accuracy: 1.0000\n",
      "Epoch 52/100\n",
      "23/23 [==============================] - 93s 4s/step - loss: 0.0252 - accuracy: 0.9944 - val_loss: 9.2155e-05 - val_accuracy: 1.0000\n",
      "Epoch 53/100\n",
      "23/23 [==============================] - 93s 4s/step - loss: 0.0044 - accuracy: 0.9972 - val_loss: 0.0013 - val_accuracy: 1.0000\n",
      "Epoch 54/100\n",
      "23/23 [==============================] - 93s 4s/step - loss: 0.0260 - accuracy: 0.9916 - val_loss: 1.4188e-04 - val_accuracy: 1.0000\n",
      "Epoch 55/100\n",
      "23/23 [==============================] - 92s 4s/step - loss: 0.0023 - accuracy: 1.0000 - val_loss: 0.0010 - val_accuracy: 1.0000\n",
      "Epoch 56/100\n",
      "23/23 [==============================] - 92s 4s/step - loss: 0.0847 - accuracy: 0.9775 - val_loss: 4.1364e-06 - val_accuracy: 1.0000\n",
      "Epoch 57/100\n",
      "23/23 [==============================] - 92s 4s/step - loss: 0.0691 - accuracy: 0.9888 - val_loss: 0.0020 - val_accuracy: 1.0000\n",
      "Epoch 58/100\n",
      "23/23 [==============================] - 92s 4s/step - loss: 0.1111 - accuracy: 0.9831 - val_loss: 0.0011 - val_accuracy: 1.0000\n",
      "Epoch 59/100\n",
      "23/23 [==============================] - 93s 4s/step - loss: 0.0190 - accuracy: 0.9916 - val_loss: 3.1987e-04 - val_accuracy: 1.0000\n",
      "Epoch 60/100\n",
      "23/23 [==============================] - 92s 4s/step - loss: 0.0111 - accuracy: 0.9944 - val_loss: 6.2775e-04 - val_accuracy: 1.0000\n",
      "Epoch 61/100\n",
      "23/23 [==============================] - 93s 4s/step - loss: 0.0456 - accuracy: 0.9831 - val_loss: 8.3759e-05 - val_accuracy: 1.0000\n",
      "Epoch 62/100\n",
      "23/23 [==============================] - 93s 4s/step - loss: 0.0346 - accuracy: 0.9944 - val_loss: 7.2356e-04 - val_accuracy: 1.0000\n",
      "Epoch 63/100\n",
      "23/23 [==============================] - 93s 4s/step - loss: 0.0027 - accuracy: 1.0000 - val_loss: 0.0019 - val_accuracy: 1.0000\n",
      "Epoch 64/100\n",
      "23/23 [==============================] - 93s 4s/step - loss: 0.0158 - accuracy: 0.9916 - val_loss: 2.3171e-06 - val_accuracy: 1.0000\n",
      "Epoch 65/100\n",
      "23/23 [==============================] - 93s 4s/step - loss: 0.0236 - accuracy: 0.9944 - val_loss: 0.7409 - val_accuracy: 0.8000\n",
      "Epoch 66/100\n",
      "23/23 [==============================] - 93s 4s/step - loss: 0.1029 - accuracy: 0.9691 - val_loss: 6.4434e-04 - val_accuracy: 1.0000\n",
      "Epoch 67/100\n",
      "23/23 [==============================] - 93s 4s/step - loss: 0.0107 - accuracy: 0.9944 - val_loss: 3.3783e-05 - val_accuracy: 1.0000\n",
      "Epoch 68/100\n",
      "23/23 [==============================] - 94s 4s/step - loss: 0.0538 - accuracy: 0.9916 - val_loss: 4.6452e-05 - val_accuracy: 1.0000\n",
      "Epoch 69/100\n",
      "23/23 [==============================] - 93s 4s/step - loss: 0.0035 - accuracy: 1.0000 - val_loss: 0.0053 - val_accuracy: 1.0000\n",
      "Epoch 70/100\n",
      "23/23 [==============================] - 94s 4s/step - loss: 0.0063 - accuracy: 1.0000 - val_loss: 0.0116 - val_accuracy: 1.0000\n",
      "Epoch 71/100\n",
      "23/23 [==============================] - 93s 4s/step - loss: 0.0175 - accuracy: 0.9972 - val_loss: 2.4408e-06 - val_accuracy: 1.0000\n",
      "Epoch 72/100\n",
      "23/23 [==============================] - 93s 4s/step - loss: 0.0244 - accuracy: 0.9916 - val_loss: 3.6511e-05 - val_accuracy: 1.0000\n",
      "Epoch 73/100\n",
      "23/23 [==============================] - 93s 4s/step - loss: 0.0248 - accuracy: 0.9916 - val_loss: 6.1724e-04 - val_accuracy: 1.0000\n",
      "Epoch 74/100\n",
      "23/23 [==============================] - 93s 4s/step - loss: 0.0027 - accuracy: 1.0000 - val_loss: 0.0021 - val_accuracy: 1.0000\n",
      "Epoch 75/100\n",
      "23/23 [==============================] - 94s 4s/step - loss: 0.0047 - accuracy: 1.0000 - val_loss: 5.7292e-05 - val_accuracy: 1.0000\n",
      "Epoch 76/100\n",
      "23/23 [==============================] - 92s 4s/step - loss: 0.0071 - accuracy: 0.9972 - val_loss: 1.5803e-04 - val_accuracy: 1.0000\n",
      "Epoch 77/100\n",
      "23/23 [==============================] - 92s 4s/step - loss: 0.0295 - accuracy: 0.9944 - val_loss: 5.7618e-04 - val_accuracy: 1.0000\n",
      "Epoch 78/100\n",
      "23/23 [==============================] - 92s 4s/step - loss: 0.0076 - accuracy: 0.9972 - val_loss: 8.2253e-05 - val_accuracy: 1.0000\n",
      "Epoch 79/100\n",
      "23/23 [==============================] - 93s 4s/step - loss: 0.0293 - accuracy: 0.9888 - val_loss: 0.0025 - val_accuracy: 1.0000\n",
      "Epoch 80/100\n",
      "23/23 [==============================] - 92s 4s/step - loss: 0.0120 - accuracy: 0.9972 - val_loss: 1.5991e-04 - val_accuracy: 1.0000\n",
      "Epoch 81/100\n",
      "23/23 [==============================] - 92s 4s/step - loss: 0.0258 - accuracy: 0.9860 - val_loss: 8.5118e-04 - val_accuracy: 1.0000\n",
      "Epoch 82/100\n",
      "23/23 [==============================] - 92s 4s/step - loss: 1.3692 - accuracy: 0.9213 - val_loss: 13.7478 - val_accuracy: 0.6000\n",
      "Epoch 83/100\n",
      "23/23 [==============================] - 92s 4s/step - loss: 0.3234 - accuracy: 0.9719 - val_loss: 2.2787e-05 - val_accuracy: 1.0000\n",
      "Epoch 84/100\n",
      "23/23 [==============================] - 92s 4s/step - loss: 0.0347 - accuracy: 0.9944 - val_loss: 1.5199e-04 - val_accuracy: 1.0000\n",
      "Epoch 85/100\n",
      "23/23 [==============================] - 91s 4s/step - loss: 0.0169 - accuracy: 0.9972 - val_loss: 2.5913e-06 - val_accuracy: 1.0000\n",
      "Epoch 86/100\n",
      "23/23 [==============================] - 94s 4s/step - loss: 0.0486 - accuracy: 0.9891 - val_loss: 4.7918e-06 - val_accuracy: 1.0000\n",
      "Epoch 87/100\n",
      "23/23 [==============================] - 93s 4s/step - loss: 0.0169 - accuracy: 0.9972 - val_loss: 1.5261e-04 - val_accuracy: 1.0000\n",
      "Epoch 88/100\n",
      "23/23 [==============================] - 92s 4s/step - loss: 0.0366 - accuracy: 0.9888 - val_loss: 0.0560 - val_accuracy: 0.9750\n",
      "Epoch 89/100\n",
      "23/23 [==============================] - 92s 4s/step - loss: 0.0361 - accuracy: 0.9916 - val_loss: 7.1564e-06 - val_accuracy: 1.0000\n",
      "Epoch 90/100\n",
      "23/23 [==============================] - 92s 4s/step - loss: 0.0176 - accuracy: 0.9944 - val_loss: 4.4001e-06 - val_accuracy: 1.0000\n",
      "Epoch 91/100\n",
      "23/23 [==============================] - 92s 4s/step - loss: 0.0168 - accuracy: 0.9888 - val_loss: 5.4539e-05 - val_accuracy: 1.0000\n",
      "Epoch 92/100\n",
      "23/23 [==============================] - 92s 4s/step - loss: 0.0908 - accuracy: 0.9803 - val_loss: 1.5539e-04 - val_accuracy: 1.0000\n",
      "Epoch 93/100\n",
      "23/23 [==============================] - 92s 4s/step - loss: 0.0431 - accuracy: 0.9888 - val_loss: 5.1255e-06 - val_accuracy: 1.0000\n",
      "Epoch 94/100\n",
      "23/23 [==============================] - 92s 4s/step - loss: 0.0207 - accuracy: 0.9916 - val_loss: 2.1825e-05 - val_accuracy: 1.0000\n",
      "Epoch 95/100\n",
      "23/23 [==============================] - 92s 4s/step - loss: 0.0023 - accuracy: 1.0000 - val_loss: 2.0989e-05 - val_accuracy: 1.0000\n",
      "Epoch 96/100\n",
      "23/23 [==============================] - 92s 4s/step - loss: 0.0022 - accuracy: 1.0000 - val_loss: 3.7120e-05 - val_accuracy: 1.0000\n",
      "Epoch 97/100\n",
      "23/23 [==============================] - 92s 4s/step - loss: 0.0212 - accuracy: 0.9888 - val_loss: 4.3672e-06 - val_accuracy: 1.0000\n",
      "Epoch 98/100\n",
      "23/23 [==============================] - 92s 4s/step - loss: 0.0236 - accuracy: 0.9972 - val_loss: 0.0012 - val_accuracy: 1.0000\n",
      "Epoch 99/100\n",
      "23/23 [==============================] - 93s 4s/step - loss: 0.0357 - accuracy: 0.9888 - val_loss: 1.0006e-04 - val_accuracy: 1.0000\n",
      "Epoch 100/100\n",
      "23/23 [==============================] - 93s 4s/step - loss: 0.0609 - accuracy: 0.9831 - val_loss: 7.3569e-04 - val_accuracy: 1.0000\n"
     ]
    }
   ],
   "source": [
    "try:\n",
    "    config = ConfigurationManager()\n",
    "    training_config = config.get_training_config()\n",
    "    training = Training(config=training_config)\n",
    "    training.get_base_model()\n",
    "    training.train_valid_generator()\n",
    "    training.train()\n",
    "    \n",
    "except Exception as e:\n",
    "    raise e"
   ]
  },
  {
   "cell_type": "code",
   "execution_count": null,
   "metadata": {},
   "outputs": [],
   "source": []
  },
  {
   "cell_type": "code",
   "execution_count": null,
   "metadata": {},
   "outputs": [],
   "source": []
  },
  {
   "cell_type": "code",
   "execution_count": null,
   "metadata": {},
   "outputs": [],
   "source": []
  },
  {
   "cell_type": "code",
   "execution_count": null,
   "metadata": {},
   "outputs": [],
   "source": []
  },
  {
   "cell_type": "code",
   "execution_count": null,
   "metadata": {},
   "outputs": [],
   "source": []
  },
  {
   "cell_type": "code",
   "execution_count": null,
   "metadata": {},
   "outputs": [],
   "source": []
  },
  {
   "cell_type": "code",
   "execution_count": null,
   "metadata": {},
   "outputs": [],
   "source": []
  },
  {
   "cell_type": "code",
   "execution_count": null,
   "metadata": {},
   "outputs": [],
   "source": []
  },
  {
   "cell_type": "code",
   "execution_count": null,
   "metadata": {},
   "outputs": [],
   "source": []
  },
  {
   "cell_type": "code",
   "execution_count": null,
   "metadata": {},
   "outputs": [],
   "source": []
  },
  {
   "cell_type": "code",
   "execution_count": null,
   "metadata": {},
   "outputs": [],
   "source": []
  },
  {
   "cell_type": "code",
   "execution_count": null,
   "metadata": {},
   "outputs": [],
   "source": []
  },
  {
   "cell_type": "code",
   "execution_count": null,
   "metadata": {},
   "outputs": [],
   "source": []
  },
  {
   "cell_type": "code",
   "execution_count": null,
   "metadata": {},
   "outputs": [],
   "source": []
  },
  {
   "cell_type": "code",
   "execution_count": null,
   "metadata": {},
   "outputs": [],
   "source": []
  },
  {
   "cell_type": "code",
   "execution_count": null,
   "metadata": {},
   "outputs": [],
   "source": []
  },
  {
   "cell_type": "code",
   "execution_count": null,
   "metadata": {},
   "outputs": [],
   "source": []
  },
  {
   "cell_type": "code",
   "execution_count": null,
   "metadata": {},
   "outputs": [],
   "source": []
  },
  {
   "cell_type": "code",
   "execution_count": null,
   "metadata": {},
   "outputs": [],
   "source": []
  },
  {
   "cell_type": "code",
   "execution_count": null,
   "metadata": {},
   "outputs": [],
   "source": []
  },
  {
   "cell_type": "code",
   "execution_count": null,
   "metadata": {},
   "outputs": [],
   "source": []
  },
  {
   "cell_type": "code",
   "execution_count": null,
   "metadata": {},
   "outputs": [],
   "source": []
  },
  {
   "cell_type": "code",
   "execution_count": null,
   "metadata": {},
   "outputs": [],
   "source": []
  },
  {
   "cell_type": "code",
   "execution_count": null,
   "metadata": {},
   "outputs": [],
   "source": []
  },
  {
   "cell_type": "code",
   "execution_count": null,
   "metadata": {},
   "outputs": [],
   "source": []
  },
  {
   "cell_type": "code",
   "execution_count": null,
   "metadata": {},
   "outputs": [],
   "source": []
  },
  {
   "cell_type": "code",
   "execution_count": null,
   "metadata": {},
   "outputs": [],
   "source": []
  },
  {
   "cell_type": "code",
   "execution_count": null,
   "metadata": {},
   "outputs": [],
   "source": []
  }
 ],
 "metadata": {
  "kernelspec": {
   "display_name": "Python 3",
   "language": "python",
   "name": "python3"
  },
  "language_info": {
   "codemirror_mode": {
    "name": "ipython",
    "version": 3
   },
   "file_extension": ".py",
   "mimetype": "text/x-python",
   "name": "python",
   "nbconvert_exporter": "python",
   "pygments_lexer": "ipython3",
   "version": "3.8.19"
  }
 },
 "nbformat": 4,
 "nbformat_minor": 2
}
